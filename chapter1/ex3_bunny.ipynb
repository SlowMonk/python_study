{
 "cells": [
  {
   "cell_type": "markdown",
   "metadata": {},
   "source": [
    "# 3차원 물체를 그려봅시다\n",
    "\n",
    "[LibIGL](https://libigl.github.io/libigl-python-bindings/tut-chapter0/)의 예제를 그대로 사용합니다."
   ]
  },
  {
   "cell_type": "markdown",
   "metadata": {},
   "source": [
    "### igl, meshplot 설치\n",
    "\n",
    "필요한 패키지들을 먼저 설치해줍시다.\n",
    "\n",
    ">`conda install -c conda-forge igl`  \n",
    ">`conda install -c conda-forge meshplot `  \n",
    "\n",
    "### 삼각형 두 개\n",
    "\n",
    "삼각형을 딱 두 개만 그려봅시다. 삼차원이기 때문에 마우스로 회전시켜볼 수 있어요."
   ]
  },
  {
   "cell_type": "code",
   "execution_count": 5,
   "metadata": {},
   "outputs": [],
   "source": [
    "#>`conda install -c conda-forge igl  \n",
    "#!conda install -c conda-forge meshplot"
   ]
  },
  {
   "cell_type": "code",
   "execution_count": 8,
   "metadata": {},
   "outputs": [
    {
     "data": {
      "application/vnd.jupyter.widget-view+json": {
       "model_id": "bc64c69937af417cb09adf72829a9002",
       "version_major": 2,
       "version_minor": 0
      },
      "text/plain": [
       "Renderer(camera=PerspectiveCamera(children=(DirectionalLight(color='white', intensity=0.6, position=(1.0, 0.5,…"
      ]
     },
     "metadata": {},
     "output_type": "display_data"
    },
    {
     "data": {
      "text/plain": [
       "<meshplot.Viewer.Viewer at 0x7f6200bea820>"
      ]
     },
     "execution_count": 8,
     "metadata": {},
     "output_type": "execute_result"
    }
   ],
   "source": [
    "import igl\n",
    "import scipy as sp\n",
    "import numpy as np\n",
    "from meshplot import plot, subplot, interact\n",
    "\n",
    "import os\n",
    "\n",
    "root_folder = os.getcwd()\n",
    "\n",
    "v: np.array\n",
    "f: np.array\n",
    "\n",
    "V = np.array([[0.0, 0, 0], [1, 0, 0], [1, 1, 1], [2, 1, 0]])\n",
    "\n",
    "F = np.array([[0, 1, 2], [1, 3, 2]])\n",
    "\n",
    "plot(V, F)"
   ]
  },
  {
   "cell_type": "markdown",
   "metadata": {},
   "source": [
    "### 스탠포드 버니(Stanford Bunny) 그리기\n",
    "\n",
    "3차원 모델이 저장된 bunny.off 파일을 읽어서 그려줍니다. 사랑스러운 버니를 만나보세요."
   ]
  },
  {
   "cell_type": "code",
   "execution_count": 9,
   "metadata": {},
   "outputs": [
    {
     "name": "stdout",
     "output_type": "stream",
     "text": [
      "Vertices:  3485\n",
      "Faces:  6966\n"
     ]
    },
    {
     "data": {
      "application/vnd.jupyter.widget-view+json": {
       "model_id": "1c39c7dd523945279e5b3df91ab65aac",
       "version_major": 2,
       "version_minor": 0
      },
      "text/plain": [
       "Renderer(camera=PerspectiveCamera(children=(DirectionalLight(color='white', intensity=0.6, position=(-0.016860…"
      ]
     },
     "metadata": {},
     "output_type": "display_data"
    },
    {
     "data": {
      "text/plain": [
       "<meshplot.Viewer.Viewer at 0x7f62380e6fd0>"
      ]
     },
     "execution_count": 9,
     "metadata": {},
     "output_type": "execute_result"
    }
   ],
   "source": [
    "## Load a mesh in OFF format\n",
    "v, f = igl.read_triangle_mesh(\"bunny.off\")\n",
    "\n",
    "## Print the vertices and faces matrices\n",
    "print(\"Vertices: \", len(v))\n",
    "print(\"Faces: \", len(f))\n",
    "\n",
    "plot(v, f)"
   ]
  },
  {
   "cell_type": "code",
   "execution_count": null,
   "metadata": {},
   "outputs": [],
   "source": []
  },
  {
   "cell_type": "code",
   "execution_count": null,
   "metadata": {},
   "outputs": [],
   "source": []
  }
 ],
 "metadata": {
  "interpreter": {
   "hash": "f64e548cbf2ebb58caacc39a919b16809fbf0a70979c18e5ddba76aa9934d80e"
  },
  "kernelspec": {
   "display_name": "Python 3.9.5 64-bit ('base': conda)",
   "language": "python",
   "name": "python3"
  },
  "language_info": {
   "codemirror_mode": {
    "name": "ipython",
    "version": 3
   },
   "file_extension": ".py",
   "mimetype": "text/x-python",
   "name": "python",
   "nbconvert_exporter": "python",
   "pygments_lexer": "ipython3",
   "version": "3.8.3"
  },
  "orig_nbformat": 4
 },
 "nbformat": 4,
 "nbformat_minor": 2
}
