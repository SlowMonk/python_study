{
 "cells": [
  {
   "cell_type": "code",
   "execution_count": 8,
   "metadata": {},
   "outputs": [
    {
     "data": {
      "text/plain": [
       "['1', 'one', '2', 3, '4']"
      ]
     },
     "execution_count": 8,
     "metadata": {},
     "output_type": "execute_result"
    }
   ],
   "source": [
    "my_list = ['1','one','2',3,'4']\n",
    "#리스트는 가변(mutable) 데이터 타입 \n",
    "#Indexing을 이요해서 객체를 유지한 상태에서 내용물을 바꿀수있다. \n",
    "my_list"
   ]
  },
  {
   "cell_type": "code",
   "execution_count": 7,
   "metadata": {},
   "outputs": [
    {
     "data": {
      "text/plain": [
       "['1', 'A', 'B', 'C', 3, '4']"
      ]
     },
     "execution_count": 7,
     "metadata": {},
     "output_type": "execute_result"
    }
   ],
   "source": [
    "# 대입\n",
    "my_list[1:3] = ['A','B','C']\n",
    "my_list"
   ]
  },
  {
   "cell_type": "code",
   "execution_count": 11,
   "metadata": {},
   "outputs": [
    {
     "name": "stdout",
     "output_type": "stream",
     "text": [
      "4621832896 4622822272\n"
     ]
    }
   ],
   "source": [
    "#새로운 아이디\n",
    "new_list = my_list + my_list\n",
    "print(id(my_list),id(new_list))"
   ]
  },
  {
   "cell_type": "code",
   "execution_count": 15,
   "metadata": {},
   "outputs": [
    {
     "name": "stdout",
     "output_type": "stream",
     "text": [
      "4622788224\n",
      "4622788224\n",
      "4622673664\n"
     ]
    }
   ],
   "source": [
    "print(id(my_list))\n",
    "my_list *= 2 # duplicate list\n",
    "print(id(my_list))\n",
    "my_list = my_list * 2\n",
    "print(id(my_list))"
   ]
  },
  {
   "cell_type": "code",
   "execution_count": 17,
   "metadata": {},
   "outputs": [
    {
     "name": "stdout",
     "output_type": "stream",
     "text": [
      "4622673664\n",
      "<class 'NoneType'>\n",
      "4622673664\n"
     ]
    }
   ],
   "source": [
    "# append 새로운 아이템 추가 \n",
    "print(id(my_list))\n",
    "new_list = my_list.append('a')\n",
    "print(type(new_list))\n",
    "print(id(my_list))\n"
   ]
  },
  {
   "cell_type": "code",
   "execution_count": 22,
   "metadata": {},
   "outputs": [
    {
     "name": "stdout",
     "output_type": "stream",
     "text": [
      "['A', 'B', 'C', 'D']\n",
      "A\n",
      "['D', 'C', 'B']\n"
     ]
    }
   ],
   "source": [
    "# pop\n",
    "my_list = ['A','B','C','D']\n",
    "print(my_list)\n",
    "p = my_list.pop(0)\n",
    "print(p)\n",
    "my_list.reverse()\n",
    "print(my_list)"
   ]
  },
  {
   "cell_type": "code",
   "execution_count": 23,
   "metadata": {},
   "outputs": [
    {
     "data": {
      "text/plain": [
       "['B', 'C', 'D']"
      ]
     },
     "execution_count": 23,
     "metadata": {},
     "output_type": "execute_result"
    }
   ],
   "source": [
    "my_list[::-1]"
   ]
  },
  {
   "cell_type": "code",
   "execution_count": 24,
   "metadata": {},
   "outputs": [
    {
     "data": {
      "text/plain": [
       "[[0, 0, 0], [1, 1, 1], [2, 2, 2]]"
      ]
     },
     "execution_count": 24,
     "metadata": {},
     "output_type": "execute_result"
    }
   ],
   "source": [
    "#중첩리스트\n",
    "my_list = [['Hello'],'A','B']\n",
    "l0 = [0,0,0]\n",
    "l1 = [1,1,1]\n",
    "l2 = [2,2,2]\n",
    "l = [l0,l1,l2]\n",
    "l"
   ]
  },
  {
   "cell_type": "code",
   "execution_count": 25,
   "metadata": {},
   "outputs": [],
   "source": [
    "new_list = l.copy()"
   ]
  },
  {
   "cell_type": "code",
   "execution_count": 26,
   "metadata": {},
   "outputs": [
    {
     "name": "stdout",
     "output_type": "stream",
     "text": [
      "4624788672 4622651264\n"
     ]
    }
   ],
   "source": [
    "print(id(new_list),id(l))"
   ]
  },
  {
   "cell_type": "code",
   "execution_count": 28,
   "metadata": {},
   "outputs": [
    {
     "name": "stdout",
     "output_type": "stream",
     "text": [
      "4621569600 4621569600\n"
     ]
    }
   ],
   "source": [
    "#리스트는 copy하면 그 안에 리스트는 같은 주소를 가진다. \n",
    "print(id(new_list[0]),id(l[0]))"
   ]
  },
  {
   "cell_type": "code",
   "execution_count": 29,
   "metadata": {},
   "outputs": [
    {
     "name": "stdout",
     "output_type": "stream",
     "text": [
      "2\n"
     ]
    }
   ],
   "source": [
    "#아이템이 불면객체인 경우\n",
    "old_list = [[1]]\n",
    "new_list = old_list.copy()\n",
    "new_list[0][0] = 2\n",
    "print(old_list[0][0])"
   ]
  },
  {
   "cell_type": "code",
   "execution_count": null,
   "metadata": {},
   "outputs": [],
   "source": [
    "#아이템이 가변 불변인경우\n",
    "old_list = [1]\n",
    "new_list = old_list.copy()\n",
    "new_list[0] = 2\n",
    "print(old_list[0])"
   ]
  }
 ],
 "metadata": {
  "kernelspec": {
   "display_name": "Python 3.6.9 64-bit",
   "language": "python",
   "name": "python3"
  },
  "language_info": {
   "codemirror_mode": {
    "name": "ipython",
    "version": 3
   },
   "file_extension": ".py",
   "mimetype": "text/x-python",
   "name": "python",
   "nbconvert_exporter": "python",
   "pygments_lexer": "ipython3",
   "version": "3.9.6"
  },
  "orig_nbformat": 4,
  "vscode": {
   "interpreter": {
    "hash": "31f2aee4e71d21fbe5cf8b01ff0e069b9275f58929596ceb00d14d90e3e16cd6"
   }
  }
 },
 "nbformat": 4,
 "nbformat_minor": 2
}
