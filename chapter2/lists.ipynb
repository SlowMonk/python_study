{
 "cells": [
  {
   "cell_type": "code",
   "execution_count": 8,
   "metadata": {},
   "outputs": [
    {
     "data": {
      "text/plain": [
       "['1', 'one', '2', 3, '4']"
      ]
     },
     "execution_count": 8,
     "metadata": {},
     "output_type": "execute_result"
    }
   ],
   "source": [
    "my_list = ['1','one','2',3,'4']\n",
    "#리스트는 가변(mutable) 데이터 타입 \n",
    "#Indexing을 이요해서 객체를 유지한 상태에서 내용물을 바꿀수있다. \n",
    "my_list"
   ]
  },
  {
   "cell_type": "code",
   "execution_count": 7,
   "metadata": {},
   "outputs": [
    {
     "data": {
      "text/plain": [
       "['1', 'A', 'B', 'C', 3, '4']"
      ]
     },
     "execution_count": 7,
     "metadata": {},
     "output_type": "execute_result"
    }
   ],
   "source": [
    "# 대입\n",
    "my_list[1:3] = ['A','B','C']\n",
    "my_list"
   ]
  },
  {
   "cell_type": "code",
   "execution_count": 11,
   "metadata": {},
   "outputs": [
    {
     "name": "stdout",
     "output_type": "stream",
     "text": [
      "4621832896 4622822272\n"
     ]
    }
   ],
   "source": [
    "#새로운 아이디\n",
    "new_list = my_list + my_list\n",
    "print(id(my_list),id(new_list))"
   ]
  },
  {
   "cell_type": "code",
   "execution_count": 15,
   "metadata": {},
   "outputs": [
    {
     "name": "stdout",
     "output_type": "stream",
     "text": [
      "4622788224\n",
      "4622788224\n",
      "4622673664\n"
     ]
    }
   ],
   "source": [
    "print(id(my_list))\n",
    "my_list *= 2 # duplicate list\n",
    "print(id(my_list))\n",
    "my_list = my_list * 2\n",
    "print(id(my_list))"
   ]
  },
  {
   "cell_type": "code",
   "execution_count": 17,
   "metadata": {},
   "outputs": [
    {
     "name": "stdout",
     "output_type": "stream",
     "text": [
      "4622673664\n",
      "<class 'NoneType'>\n",
      "4622673664\n"
     ]
    }
   ],
   "source": [
    "# append 새로운 아이템 추가 \n",
    "print(id(my_list))\n",
    "new_list = my_list.append('a')\n",
    "print(type(new_list))\n",
    "print(id(my_list))\n"
   ]
  },
  {
   "cell_type": "code",
   "execution_count": 22,
   "metadata": {},
   "outputs": [
    {
     "name": "stdout",
     "output_type": "stream",
     "text": [
      "['A', 'B', 'C', 'D']\n",
      "A\n",
      "['D', 'C', 'B']\n"
     ]
    }
   ],
   "source": [
    "# pop\n",
    "my_list = ['A','B','C','D']\n",
    "print(my_list)\n",
    "p = my_list.pop(0)\n",
    "print(p)\n",
    "my_list.reverse()\n",
    "print(my_list)"
   ]
  },
  {
   "cell_type": "code",
   "execution_count": null,
   "metadata": {},
   "outputs": [],
   "source": []
  }
 ],
 "metadata": {
  "kernelspec": {
   "display_name": "Python 3.6.9 64-bit",
   "language": "python",
   "name": "python3"
  },
  "language_info": {
   "codemirror_mode": {
    "name": "ipython",
    "version": 3
   },
   "file_extension": ".py",
   "mimetype": "text/x-python",
   "name": "python",
   "nbconvert_exporter": "python",
   "pygments_lexer": "ipython3",
   "version": "3.9.6"
  },
  "orig_nbformat": 4,
  "vscode": {
   "interpreter": {
    "hash": "31f2aee4e71d21fbe5cf8b01ff0e069b9275f58929596ceb00d14d90e3e16cd6"
   }
  }
 },
 "nbformat": 4,
 "nbformat_minor": 2
}
